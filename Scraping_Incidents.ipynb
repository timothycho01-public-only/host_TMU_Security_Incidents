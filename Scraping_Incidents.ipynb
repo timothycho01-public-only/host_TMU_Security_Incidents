{
 "cells": [
  {
   "cell_type": "markdown",
   "metadata": {},
   "source": [
    "# Collect Incident Links"
   ]
  },
  {
   "cell_type": "code",
   "execution_count": 1,
   "metadata": {
    "collapsed": true
   },
   "outputs": [
    {
     "name": "stdout",
     "output_type": "stream",
     "text": [
      "Page: 1, Page Links: 10, Total Links: 10\n",
      "Page: 2, Page Links: 10, Total Links: 20\n",
      "Page: 3, Page Links: 10, Total Links: 30\n",
      "Page: 4, Page Links: 10, Total Links: 40\n",
      "Page: 5, Page Links: 10, Total Links: 50\n",
      "Page: 6, Page Links: 10, Total Links: 60\n",
      "Page: 7, Page Links: 10, Total Links: 70\n",
      "Page: 8, Page Links: 10, Total Links: 80\n",
      "Page: 9, Page Links: 10, Total Links: 90\n",
      "Page: 10, Page Links: 10, Total Links: 100\n",
      "Page: 11, Page Links: 10, Total Links: 110\n",
      "Page: 12, Page Links: 10, Total Links: 120\n",
      "Page: 13, Page Links: 10, Total Links: 130\n",
      "Page: 14, Page Links: 10, Total Links: 140\n",
      "Page: 15, Page Links: 10, Total Links: 150\n",
      "Page: 16, Page Links: 10, Total Links: 160\n",
      "Page: 17, Page Links: 10, Total Links: 170\n",
      "Page: 18, Page Links: 10, Total Links: 180\n",
      "Page: 19, Page Links: 10, Total Links: 190\n",
      "Page: 20, Page Links: 10, Total Links: 200\n",
      "Page: 21, Page Links: 10, Total Links: 210\n",
      "Page: 22, Page Links: 10, Total Links: 220\n",
      "Page: 23, Page Links: 10, Total Links: 230\n",
      "Page: 24, Page Links: 10, Total Links: 240\n",
      "Page: 25, Page Links: 10, Total Links: 250\n",
      "Page: 26, Page Links: 10, Total Links: 260\n",
      "Page: 27, Page Links: 10, Total Links: 270\n",
      "Page: 28, Page Links: 10, Total Links: 280\n",
      "Page: 29, Page Links: 10, Total Links: 290\n",
      "Page: 30, Page Links: 10, Total Links: 300\n",
      "Page: 31, Page Links: 10, Total Links: 310\n",
      "Page: 32, Page Links: 10, Total Links: 320\n",
      "Page: 33, Page Links: 10, Total Links: 330\n",
      "Page: 34, Page Links: 10, Total Links: 340\n",
      "Page: 35, Page Links: 10, Total Links: 350\n",
      "Page: 36, Page Links: 10, Total Links: 360\n",
      "Page: 37, Page Links: 10, Total Links: 370\n",
      "Page: 38, Page Links: 10, Total Links: 380\n",
      "Page: 39, Page Links: 10, Total Links: 390\n",
      "Page: 40, Page Links: 10, Total Links: 400\n",
      "Page: 41, Page Links: 10, Total Links: 410\n",
      "Page: 42, Page Links: 10, Total Links: 420\n",
      "Page: 43, Page Links: 10, Total Links: 430\n",
      "Page: 44, Page Links: 10, Total Links: 440\n",
      "Page: 45, Page Links: 10, Total Links: 450\n",
      "Page: 46, Page Links: 10, Total Links: 460\n",
      "Page: 47, Page Links: 10, Total Links: 470\n",
      "Page: 48, Page Links: 10, Total Links: 480\n",
      "Page: 49, Page Links: 10, Total Links: 490\n",
      "Page: 50, Page Links: 10, Total Links: 500\n",
      "Page: 51, Page Links: 10, Total Links: 510\n",
      "Page: 52, Page Links: 10, Total Links: 520\n",
      "Page: 53, Page Links: 10, Total Links: 530\n",
      "Page: 54, Page Links: 10, Total Links: 540\n",
      "Page: 55, Page Links: 10, Total Links: 550\n",
      "Page: 56, Page Links: 10, Total Links: 560\n",
      "Page: 57, Page Links: 10, Total Links: 570\n",
      "Page: 58, Page Links: 10, Total Links: 580\n",
      "Page: 59, Page Links: 10, Total Links: 590\n",
      "Page: 60, Page Links: 10, Total Links: 600\n",
      "Page: 61, Page Links: 10, Total Links: 610\n",
      "Page: 62, Page Links: 10, Total Links: 620\n",
      "Page: 63, Page Links: 10, Total Links: 630\n",
      "Page: 64, Page Links: 10, Total Links: 640\n",
      "Page: 65, Page Links: 10, Total Links: 650\n",
      "Page: 66, Page Links: 10, Total Links: 660\n",
      "Page: 67, Page Links: 10, Total Links: 670\n",
      "Page: 68, Page Links: 10, Total Links: 680\n",
      "Page: 69, Page Links: 10, Total Links: 690\n",
      "Page: 70, Page Links: 10, Total Links: 700\n",
      "Page: 71, Page Links: 10, Total Links: 710\n",
      "Page: 72, Page Links: 10, Total Links: 720\n",
      "Page: 73, Page Links: 10, Total Links: 730\n",
      "Page: 74, Page Links: 10, Total Links: 740\n",
      "Page: 75, Page Links: 10, Total Links: 750\n",
      "Page: 76, Page Links: 10, Total Links: 760\n",
      "Page: 77, Page Links: 10, Total Links: 770\n",
      "Page: 78, Page Links: 10, Total Links: 780\n",
      "Page: 79, Page Links: 10, Total Links: 790\n",
      "Page: 80, Page Links: 6, Total Links: 796\n"
     ]
    }
   ],
   "source": [
    "from selenium import webdriver \n",
    "from selenium.webdriver.common.by import By\n",
    "from selenium.webdriver.support.ui import WebDriverWait\n",
    "from selenium.webdriver.support import expected_conditions as EC\n",
    "from webdriver_manager.chrome import ChromeDriverManager\n",
    "from selenium.common.exceptions import TimeoutException\n",
    "import time\n",
    "\n",
    "url = \"https://www.torontomu.ca/community-safety-security/security-incidents/list-of-security-incidents/\"\n",
    "driver = webdriver.Chrome(ChromeDriverManager().install())\n",
    "driver.get(url) \n",
    "\n",
    "page_num = 1\n",
    "incident_links = []\n",
    "\n",
    "while True:\n",
    "    time.sleep(1)\n",
    "    \n",
    "    links = driver.find_elements(By.CLASS_NAME, 'title')\n",
    "    for link in links:\n",
    "        href = link.get_attribute('href')\n",
    "        incident_links.append(href)\n",
    "        \n",
    "    print(f\"Page: {page_num}, Page Links: {len(links)}, Total Links: {len(incident_links)}\")\n",
    "    page_num += 1\n",
    "    \n",
    "    try:\n",
    "        next_page = WebDriverWait(driver, 20).until(\n",
    "            EC.visibility_of_element_located((By.CSS_SELECTOR, '[rel=\"next\"]'))\n",
    "        )\n",
    "    except TimeoutException:\n",
    "        break\n",
    "        \n",
    "    if 'disabled' in next_page.get_attribute('class'):\n",
    "        break \n",
    "    \n",
    "    next_page.click()\n",
    "    \n",
    "    try:\n",
    "        WebDriverWait(driver, 20).until(EC.staleness_of(next_page))\n",
    "    except TimeoutException:\n",
    "        break  \n",
    "\n",
    "driver.quit()"
   ]
  },
  {
   "cell_type": "markdown",
   "metadata": {},
   "source": [
    "# Scrape Data From Incidents"
   ]
  },
  {
   "cell_type": "code",
   "execution_count": 2,
   "metadata": {},
   "outputs": [],
   "source": [
    "import requests\n",
    "from bs4 import BeautifulSoup\n",
    "\n",
    "def scrape_incident(incident_url):\n",
    "    response = requests.get(incident_url)\n",
    "        \n",
    "    if response.status_code == 200:\n",
    "        soup = BeautifulSoup(response.text, 'html.parser')\n",
    "\n",
    "        title_e = soup.find('h1', class_='title')\n",
    "        title = title_e.text.strip() if title_e else None\n",
    "        \n",
    "        date_e = soup.find('div', class_='date')\n",
    "        date = date_e.text.strip() if date_e else None\n",
    "        \n",
    "        location_e = soup.find('div', class_='location')\n",
    "        location = location_e.text.split('Location of incident')[1].strip() if location_e else None\n",
    "\n",
    "        doi_e = soup.find('div', class_='dateofincident')\n",
    "        date_of_incident = doi_e.text.split('Date and time of incident')[1].strip() if doi_e else None\n",
    "\n",
    "        dr_e = soup.find('div', class_='datereported')\n",
    "        date_reported = dr_e.text.split('Date and time reported')[1].strip() if dr_e else None\n",
    "\n",
    "        id_e = soup.find('div', class_='incidentdetails')\n",
    "        incident_details = id_e.find('p').text.strip() if id_e else None\n",
    "\n",
    "        incident_info = [incident_url, title, date, location, date_of_incident, date_reported, incident_details]\n",
    "\n",
    "        description_e = soup.find('div', class_='description')\n",
    "        if description_e:\n",
    "            descriptions = []\n",
    "            for i, paragraph in enumerate(description_e.find_all('p')):\n",
    "                descriptions.append([incident_url, i+1, paragraph.text.strip()])\n",
    "        else:\n",
    "            descriptions = [[incident_url, 1, None]]\n",
    "        \n",
    "        response.close()\n",
    "        \n",
    "        return incident_info, descriptions\n",
    "    \n",
    "    else:\n",
    "        print(f\"Failed: {response.status_code} - {incident_url}\")\n",
    "        response.close()\n",
    "        \n",
    "        return None, None"
   ]
  },
  {
   "cell_type": "code",
   "execution_count": 3,
   "metadata": {
    "scrolled": false
   },
   "outputs": [
    {
     "data": {
      "application/vnd.jupyter.widget-view+json": {
       "model_id": "e0b9480c53de494180ea4c6f0f83de7f",
       "version_major": 2,
       "version_minor": 0
      },
      "text/plain": [
       "HBox(children=(HTML(value=''), FloatProgress(value=0.0, max=796.0), HTML(value='')))"
      ]
     },
     "metadata": {},
     "output_type": "display_data"
    },
    {
     "name": "stdout",
     "output_type": "stream",
     "text": [
      "\n"
     ]
    }
   ],
   "source": [
    "from tqdm.notebook import tqdm\n",
    "import pandas as pd\n",
    "\n",
    "ii_data = []\n",
    "desc_data = []\n",
    "\n",
    "for url in tqdm(incident_links):\n",
    "    incident_info, descriptions = scrape_incident(url)\n",
    "    \n",
    "    if incident_info and descriptions:\n",
    "        ii_data.append(incident_info)\n",
    "        \n",
    "        for desc in descriptions:\n",
    "            desc_data.append(desc)"
   ]
  },
  {
   "cell_type": "code",
   "execution_count": 4,
   "metadata": {
    "scrolled": true
   },
   "outputs": [],
   "source": [
    "cols = ['incident_url', 'title', 'date', 'location', 'date_of_incident', 'date_reported', 'incident_details']\n",
    "incident_info_df = pd.DataFrame(ii_data, columns=cols)\n",
    "\n",
    "cols = ['incident_url', 'paragraph_num', 'description']\n",
    "descriptions_df = pd.DataFrame(desc_data, columns=cols)\n",
    "\n",
    "incident_info_df.to_csv('incident_info.csv', index=False)\n",
    "descriptions_df.to_csv('descriptions.csv', index=False)"
   ]
  }
 ],
 "metadata": {
  "kernelspec": {
   "display_name": "Python 3",
   "language": "python",
   "name": "python3"
  },
  "language_info": {
   "codemirror_mode": {
    "name": "ipython",
    "version": 3
   },
   "file_extension": ".py",
   "mimetype": "text/x-python",
   "name": "python",
   "nbconvert_exporter": "python",
   "pygments_lexer": "ipython3",
   "version": "3.8.5"
  }
 },
 "nbformat": 4,
 "nbformat_minor": 4
}
